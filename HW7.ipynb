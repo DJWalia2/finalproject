{
 "cells": [
  {
   "cell_type": "markdown",
   "metadata": {},
   "source": [
    "\n",
    "# Project 2: swarming behavior and correlated velocities\n",
    "\n",
    "In this project you will explore the properties of the [Vicsek swarming model](https://en.wikipedia.org/wiki/Vicsek_model) and you will generalize it by adding rules to the interactions of the active particles in the system.\n",
    "\n",
    "The model has an internal noise parameter (\"$eta$\" in the implementation below), and it is known that increasing $eta$ from $0$ to $1$ will lead the swarm to undergo a phase transition, i.e. a qualitative change of behavior, which in this case manifests itself as a passage from collective, ordered motion to random motion for the active particles. \n",
    "\n",
    "Referring to the concepts of polarization, correlation function, and correlation length defined in the article [Scale-free correlations in starling flocks](https://www.pnas.org/content/107/26/11865), answer the following questions:\n",
    "\n",
    "\n",
    "(1) Estimate the value of $eta$ for which there is a phase transition in the Vicsek model, by using the polarization $\\Phi$ of the system. Test your method for several values of size $N$ of the system, and several choices of initial random distributions of the active particles.\n",
    "\n",
    "\n",
    "(2) Estimate the correlation function $C(r)$ of fluctuations of velocities within the Vicsek model, for multiple values of $eta$ and for $N \\approx 10^3$. Estimate $\\bar r$, the value of $r$ for which $C(r)$ becomes zero ($\\bar r$ is an estimate of the correlation length of the swarm). \n",
    "\n",
    "\n",
    "(3) Research the literature to find other swarming and flocking models. On the basis of your literature review and your intuition, try to modify the Vicsek model so that you increase the average value of $\\bar r$ for the swarm.  \n",
    "\n",
    "N.B. all your answers should be in reference to the system in an \"asymptotic\" state when the initial random distribution of the positions and velocities of the active particles is no more significant to the dynamics.\n",
    "\n"
   ]
  },
  {
   "cell_type": "markdown",
   "metadata": {},
   "source": [
    "This code template is taken from a blog post of [Francesco Turci](https://francescoturci.net/2020/06/19/minimal-vicsek-model-in-python/), a researcher in disordered systems. This specific Python implementation allows you to simulate far more active particles than it would be possible with a direct, naive implementation of the Vicsek model."
   ]
  },
  {
   "cell_type": "code",
   "execution_count": 1,
   "metadata": {},
   "outputs": [
    {
     "name": "stdout",
     "output_type": "stream",
     "text": [
      " N 3072\n"
     ]
    }
   ],
   "source": [
    "import numpy as np\n",
    "import scipy as sp\n",
    "from scipy import sparse\n",
    "from scipy.spatial import cKDTree\n",
    "import matplotlib.pyplot as plt\n",
    "from matplotlib.animation import FuncAnimation\n",
    "%matplotlib notebook\n",
    "\n",
    "L = 32.0\n",
    "rho = 3.0\n",
    "N = int(rho*L**2)\n",
    "print(\" N\",N)\n",
    " \n",
    "r0 = 1.0\n",
    "deltat = 1.0\n",
    "factor = 0.5\n",
    "v0 = r0/deltat*factor\n",
    "iterations = 1000\n",
    "eta = 0\n",
    "\n",
    "pos = np.random.uniform(0,L,size=(N,2))\n",
    "orient = np.random.uniform(-np.pi, np.pi,size=N)\n",
    "\n",
    "#Sets initial pos and orient values in this cell so they cannot accidentally be altered in later versions\n",
    "pos0 = pos\n",
    "orient0 = orient"
   ]
  },
  {
   "cell_type": "code",
   "execution_count": 2,
   "metadata": {},
   "outputs": [],
   "source": [
    "def Vicsek(pos, orient, eta):\n",
    "    \n",
    "    tree = cKDTree(pos,boxsize=[L,L])\n",
    "    dist = tree.sparse_distance_matrix(tree, max_distance=r0,output_type='coo_matrix')\n",
    " \n",
    "    data = np.exp(orient[dist.col]*1j)\n",
    "    neigh = sparse.coo_matrix((data,(dist.row,dist.col)), shape=dist.get_shape())\n",
    "    S = np.squeeze(np.asarray(neigh.tocsr().sum(axis=1)))\n",
    "        \n",
    "    orient = np.angle(S)+eta*np.random.uniform(-np.pi, np.pi, size=N)\n",
    "        \n",
    "    cos, sin= np.cos(orient), np.sin(orient)\n",
    "    pos[:,0] += cos*v0\n",
    "    pos[:,1] += sin*v0\n",
    "\n",
    "    pos[pos>L] -= L\n",
    "    pos[pos<0] += L\n",
    "    \n",
    "    return pos, orient"
   ]
  },
  {
   "cell_type": "code",
   "execution_count": 3,
   "metadata": {},
   "outputs": [],
   "source": [
    "def Polarization(orient, N):\n",
    "    v = (np.cos(orient), np.sin(orient))\n",
    "    v_sum = np.sum(v, axis=1)\n",
    "    v_mod = v_sum * (1/N)\n",
    "    phi = np.linalg.norm(v_mod)\n",
    "    return phi"
   ]
  },
  {
   "cell_type": "code",
   "execution_count": 24,
   "metadata": {},
   "outputs": [],
   "source": [
    "def Correlation(r):\n",
    "    global pos, orient, N, delta_r\n",
    "    \n",
    "    #Get v_mod () and v_mean ()\n",
    "    v = (np.cos(orient), np.sin(orient))\n",
    "    v_sum = np.sum(v, axis=1)\n",
    "    v_mod = v_sum * (1/N)\n",
    "    v_mean = np.mean(v)\n",
    "    \n",
    "    sumtop = 0\n",
    "    sumbot = 0\n",
    "\n",
    "    #ui = x-component of v_mod, uj = y-component of v_mod\n",
    "    ui = v_mod[0] - v_mean\n",
    "    uj = v_mod[1] - v_mean\n",
    "    \n",
    "    for i in range(N):\n",
    "        for j in range(N):\n",
    "            #Get distance between two positions\n",
    "            pos_1 = pos[i]\n",
    "            pos_2 = pos[j]\n",
    "            \n",
    "            pos_1x = pos_1[0]\n",
    "            pos_1y = pos_1[1]\n",
    "            pos_2x = pos_2[0]\n",
    "            pos_2y = pos_2[1]\n",
    "            \n",
    "            sub_x = (pos_1x - pos_2x)**2\n",
    "            sub_y = (pos_1y - pos_2y)**2\n",
    "            \n",
    "            r_ij = (sub_x + sub_y)**0.5\n",
    "            \n",
    "            r_test = np.abs(r_ij - r)\n",
    "            \n",
    "            #Determine if distance is significant enough to add the dot project of ui/uj to the sum\n",
    "            if r_test < delta_r:\n",
    "                sumtop += np.dot(ui, uj)\n",
    "                sumbot += 1\n",
    "    \n",
    "    print(\"sumtop for r =\",r,\":\",sumtop)\n",
    "    print(\"sumbot for r =\",r,\":\",sumbot)\n",
    "    \n",
    "    \n",
    "    Cr = sumtop / sumbot\n",
    "    \n",
    "    return Cr"
   ]
  },
  {
   "cell_type": "code",
   "execution_count": null,
   "metadata": {},
   "outputs": [],
   "source": [
    "\"\"\"\n",
    "times = 21\n",
    "count = 0\n",
    "r = 0.5\n",
    "delta_r = 0.01\n",
    "eta_values = np.linspace(0, 1, times)\n",
    "\n",
    "polarization_points = np.zeros(times)\n",
    "correlation_points = np.zeros(times)\n",
    "\n",
    "for eta in eta_values:\n",
    "    pos = pos0\n",
    "    orient = orient0\n",
    "    for i in range(iterations):\n",
    "        pos, orient = Vicsek(pos, orient, eta)\n",
    "    polarization_points[count] = Polarization(orient, N)\n",
    "    correlation_points[count] = Correlation(r)\n",
    "    count += 1\n",
    "\"\"\""
   ]
  },
  {
   "cell_type": "code",
   "execution_count": 22,
   "metadata": {},
   "outputs": [
    {
     "ename": "KeyboardInterrupt",
     "evalue": "",
     "output_type": "error",
     "traceback": [
      "\u001b[1;31m---------------------------------------------------------------------------\u001b[0m",
      "\u001b[1;31mKeyboardInterrupt\u001b[0m                         Traceback (most recent call last)",
      "\u001b[1;32m<ipython-input-22-6a97f94876b3>\u001b[0m in \u001b[0;36m<module>\u001b[1;34m\u001b[0m\n\u001b[0;32m     12\u001b[0m     \u001b[0morient\u001b[0m \u001b[1;33m=\u001b[0m \u001b[0morient0\u001b[0m\u001b[1;33m\u001b[0m\u001b[1;33m\u001b[0m\u001b[0m\n\u001b[0;32m     13\u001b[0m     \u001b[1;32mfor\u001b[0m \u001b[0mi\u001b[0m \u001b[1;32min\u001b[0m \u001b[0mrange\u001b[0m\u001b[1;33m(\u001b[0m\u001b[0miterations\u001b[0m\u001b[1;33m)\u001b[0m\u001b[1;33m:\u001b[0m\u001b[1;33m\u001b[0m\u001b[1;33m\u001b[0m\u001b[0m\n\u001b[1;32m---> 14\u001b[1;33m         \u001b[0mpos\u001b[0m\u001b[1;33m,\u001b[0m \u001b[0morient\u001b[0m \u001b[1;33m=\u001b[0m \u001b[0mVicsek\u001b[0m\u001b[1;33m(\u001b[0m\u001b[0mpos\u001b[0m\u001b[1;33m,\u001b[0m \u001b[0morient\u001b[0m\u001b[1;33m,\u001b[0m \u001b[0meta\u001b[0m\u001b[1;33m)\u001b[0m\u001b[1;33m\u001b[0m\u001b[1;33m\u001b[0m\u001b[0m\n\u001b[0m\u001b[0;32m     15\u001b[0m     \u001b[0mpolarization_points\u001b[0m\u001b[1;33m[\u001b[0m\u001b[0mcount\u001b[0m\u001b[1;33m]\u001b[0m \u001b[1;33m=\u001b[0m \u001b[0mPolarization\u001b[0m\u001b[1;33m(\u001b[0m\u001b[0morient\u001b[0m\u001b[1;33m,\u001b[0m \u001b[0mN\u001b[0m\u001b[1;33m)\u001b[0m\u001b[1;33m\u001b[0m\u001b[1;33m\u001b[0m\u001b[0m\n\u001b[0;32m     16\u001b[0m     \u001b[0mcorrelation_points\u001b[0m\u001b[1;33m[\u001b[0m\u001b[0mcount\u001b[0m\u001b[1;33m]\u001b[0m \u001b[1;33m=\u001b[0m \u001b[0mCorrelation\u001b[0m\u001b[1;33m(\u001b[0m\u001b[0mr\u001b[0m\u001b[1;33m)\u001b[0m\u001b[1;33m\u001b[0m\u001b[1;33m\u001b[0m\u001b[0m\n",
      "\u001b[1;32m<ipython-input-2-52a28e20a48b>\u001b[0m in \u001b[0;36mVicsek\u001b[1;34m(pos, orient, eta)\u001b[0m\n\u001b[0;32m      2\u001b[0m \u001b[1;33m\u001b[0m\u001b[0m\n\u001b[0;32m      3\u001b[0m     \u001b[0mtree\u001b[0m \u001b[1;33m=\u001b[0m \u001b[0mcKDTree\u001b[0m\u001b[1;33m(\u001b[0m\u001b[0mpos\u001b[0m\u001b[1;33m,\u001b[0m\u001b[0mboxsize\u001b[0m\u001b[1;33m=\u001b[0m\u001b[1;33m[\u001b[0m\u001b[0mL\u001b[0m\u001b[1;33m,\u001b[0m\u001b[0mL\u001b[0m\u001b[1;33m]\u001b[0m\u001b[1;33m)\u001b[0m\u001b[1;33m\u001b[0m\u001b[1;33m\u001b[0m\u001b[0m\n\u001b[1;32m----> 4\u001b[1;33m     \u001b[0mdist\u001b[0m \u001b[1;33m=\u001b[0m \u001b[0mtree\u001b[0m\u001b[1;33m.\u001b[0m\u001b[0msparse_distance_matrix\u001b[0m\u001b[1;33m(\u001b[0m\u001b[0mtree\u001b[0m\u001b[1;33m,\u001b[0m \u001b[0mmax_distance\u001b[0m\u001b[1;33m=\u001b[0m\u001b[0mr0\u001b[0m\u001b[1;33m,\u001b[0m\u001b[0moutput_type\u001b[0m\u001b[1;33m=\u001b[0m\u001b[1;34m'coo_matrix'\u001b[0m\u001b[1;33m)\u001b[0m\u001b[1;33m\u001b[0m\u001b[1;33m\u001b[0m\u001b[0m\n\u001b[0m\u001b[0;32m      5\u001b[0m \u001b[1;33m\u001b[0m\u001b[0m\n\u001b[0;32m      6\u001b[0m     \u001b[0mdata\u001b[0m \u001b[1;33m=\u001b[0m \u001b[0mnp\u001b[0m\u001b[1;33m.\u001b[0m\u001b[0mexp\u001b[0m\u001b[1;33m(\u001b[0m\u001b[0morient\u001b[0m\u001b[1;33m[\u001b[0m\u001b[0mdist\u001b[0m\u001b[1;33m.\u001b[0m\u001b[0mcol\u001b[0m\u001b[1;33m]\u001b[0m\u001b[1;33m*\u001b[0m\u001b[1;36m1j\u001b[0m\u001b[1;33m)\u001b[0m\u001b[1;33m\u001b[0m\u001b[1;33m\u001b[0m\u001b[0m\n",
      "\u001b[1;32mckdtree.pyx\u001b[0m in \u001b[0;36mscipy.spatial.ckdtree.cKDTree.sparse_distance_matrix\u001b[1;34m()\u001b[0m\n",
      "\u001b[1;32mckdtree.pyx\u001b[0m in \u001b[0;36mscipy.spatial.ckdtree.coo_entries.coo_matrix\u001b[1;34m()\u001b[0m\n",
      "\u001b[1;32mckdtree.pyx\u001b[0m in \u001b[0;36mscipy.spatial.ckdtree.coo_entries.ndarray\u001b[1;34m()\u001b[0m\n",
      "\u001b[1;32m~\\anaconda3\\lib\\site-packages\\numpy\\core\\_asarray.py\u001b[0m in \u001b[0;36masarray\u001b[1;34m(a, dtype, order, like)\u001b[0m\n\u001b[0;32m     21\u001b[0m \u001b[1;33m\u001b[0m\u001b[0m\n\u001b[0;32m     22\u001b[0m \u001b[1;33m\u001b[0m\u001b[0m\n\u001b[1;32m---> 23\u001b[1;33m \u001b[1;33m@\u001b[0m\u001b[0mset_array_function_like_doc\u001b[0m\u001b[1;33m\u001b[0m\u001b[1;33m\u001b[0m\u001b[0m\n\u001b[0m\u001b[0;32m     24\u001b[0m \u001b[1;33m@\u001b[0m\u001b[0mset_module\u001b[0m\u001b[1;33m(\u001b[0m\u001b[1;34m'numpy'\u001b[0m\u001b[1;33m)\u001b[0m\u001b[1;33m\u001b[0m\u001b[1;33m\u001b[0m\u001b[0m\n\u001b[0;32m     25\u001b[0m \u001b[1;32mdef\u001b[0m \u001b[0masarray\u001b[0m\u001b[1;33m(\u001b[0m\u001b[0ma\u001b[0m\u001b[1;33m,\u001b[0m \u001b[0mdtype\u001b[0m\u001b[1;33m=\u001b[0m\u001b[1;32mNone\u001b[0m\u001b[1;33m,\u001b[0m \u001b[0morder\u001b[0m\u001b[1;33m=\u001b[0m\u001b[1;32mNone\u001b[0m\u001b[1;33m,\u001b[0m \u001b[1;33m*\u001b[0m\u001b[1;33m,\u001b[0m \u001b[0mlike\u001b[0m\u001b[1;33m=\u001b[0m\u001b[1;32mNone\u001b[0m\u001b[1;33m)\u001b[0m\u001b[1;33m:\u001b[0m\u001b[1;33m\u001b[0m\u001b[1;33m\u001b[0m\u001b[0m\n",
      "\u001b[1;31mKeyboardInterrupt\u001b[0m: "
     ]
    }
   ],
   "source": [
    "times = 11\n",
    "count = 0\n",
    "r = 0\n",
    "delta_r = 0.01\n",
    "eta_values = np.linspace(0, 1, times)\n",
    "\n",
    "polarization_points = np.zeros(times)\n",
    "correlation_points = np.zeros(times)\n",
    "\n",
    "for eta in eta_values:\n",
    "    pos = pos0\n",
    "    orient = orient0\n",
    "    for i in range(iterations):\n",
    "        pos, orient = Vicsek(pos, orient, eta)\n",
    "    polarization_points[count] = Polarization(orient, N)\n",
    "    correlation_points[count] = Correlation(r)\n",
    "    count += 1"
   ]
  },
  {
   "cell_type": "code",
   "execution_count": null,
   "metadata": {},
   "outputs": [],
   "source": [
    "fig1, ax1 = plt.subplots(1, 1, figsize=(8, 8))\n",
    "ax1.plot(eta_values, polarization_points, \"ro-\", color = \"black\")\n",
    "plt.xlabel(\"Eta\")\n",
    "plt.ylabel(\"Polarization\")"
   ]
  },
  {
   "cell_type": "code",
   "execution_count": null,
   "metadata": {},
   "outputs": [],
   "source": [
    "fig2, ax2 = plt.subplots(1, 1, figsize=(8, 8))\n",
    "plt.xlabel(\"Eta\")\n",
    "plt.ylabel(\"Correlation\")\n",
    "ax2.plot(eta_values, correlation_points, \"ro-\", color = \"black\")"
   ]
  },
  {
   "cell_type": "code",
   "execution_count": 25,
   "metadata": {},
   "outputs": [
    {
     "name": "stdout",
     "output_type": "stream",
     "text": [
      "sumtop for r = 0.0 : -6.699722272784071\n",
      "sumbot for r = 0.0 : 5540\n",
      "sumtop for r = 0.1 : -16.33571271854395\n",
      "sumbot for r = 0.1 : 13508\n",
      "sumtop for r = 0.2 : -26.515904431947387\n",
      "sumbot for r = 0.2 : 21926\n",
      "sumtop for r = 0.30000000000000004 : -35.423874515223034\n",
      "sumbot for r = 0.30000000000000004 : 29292\n",
      "sumtop for r = 0.4 : -43.103159069784894\n",
      "sumbot for r = 0.4 : 35642\n",
      "sumtop for r = 0.5 : -47.727660508626556\n",
      "sumbot for r = 0.5 : 39466\n",
      "sumtop for r = 0.6000000000000001 : -52.163505508017565\n",
      "sumbot for r = 0.6000000000000001 : 43134\n",
      "sumtop for r = 0.7000000000000001 : -54.00895247341306\n",
      "sumbot for r = 0.7000000000000001 : 44660\n",
      "sumtop for r = 0.8 : -54.882093173947496\n",
      "sumbot for r = 0.8 : 45382\n",
      "sumtop for r = 0.9 : -53.302700161623434\n",
      "sumbot for r = 0.9 : 44076\n",
      "sumtop for r = 1.0 : -50.458341536059734\n",
      "sumbot for r = 1.0 : 41724\n",
      "[-0.00120934 -0.00120934 -0.00120934 -0.00120934 -0.00120934 -0.00120934\n",
      " -0.00120934 -0.00120934 -0.00120934 -0.00120934 -0.00120934]\n"
     ]
    }
   ],
   "source": [
    "r = 0\n",
    "delta_r = 0.05\n",
    "times = 11\n",
    "r_values = np.linspace(0, 1, times)\n",
    "r_points = np.zeros(times)\n",
    "r_count = 0\n",
    "\n",
    "for r in r_values:\n",
    "    r_points[r_count] = Correlation(r)\n",
    "    r_count += 1\n",
    "\n",
    "print(r_points)"
   ]
  },
  {
   "cell_type": "code",
   "execution_count": null,
   "metadata": {},
   "outputs": [],
   "source": [
    "#Citation: Professor Napoletani\n",
    "\n",
    "jump = np.abs(polarization_points[1:]-polarization_points[:-1])\n",
    "mm = np.mean(jump[-20:])\n",
    "\n",
    "posMax = np.argmax(jump)\n",
    "inde1 = posMax\n",
    "\n",
    "Djump = jump[inde1]\n",
    "while Djump > mm:\n",
    "    Djump = jump[inde1]\n",
    "    inde1 += 1\n",
    "    \n",
    "print(\"Estimated eta value for phase transition:\", eta_values[inde1+1])"
   ]
  },
  {
   "cell_type": "code",
   "execution_count": null,
   "metadata": {},
   "outputs": [],
   "source": [
    "#Citation: Professor Napoletani\n",
    "\n",
    "jump = np.abs(correlation_points[1:]-correlation_points[:-1])\n",
    "mm = np.mean(jump[-20:])\n",
    "\n",
    "posMax = np.argmax(jump)\n",
    "inde1 = posMax\n",
    "\n",
    "Djump = jump[inde1]\n",
    "while Djump > mm:\n",
    "    Djump = jump[inde1]\n",
    "    inde1 += 1\n",
    "\n",
    "print(\"Estimated eta value for correlation function becoming 0:\", eta_values[inde1+1])"
   ]
  }
 ],
 "metadata": {
  "interpreter": {
   "hash": "924571507301e38a6e1ff07334e13d350fdb8f069293f4421da046b831b2999e"
  },
  "kernelspec": {
   "display_name": "Python 3",
   "language": "python",
   "name": "python3"
  },
  "language_info": {
   "codemirror_mode": {
    "name": "ipython",
    "version": 3
   },
   "file_extension": ".py",
   "mimetype": "text/x-python",
   "name": "python",
   "nbconvert_exporter": "python",
   "pygments_lexer": "ipython3",
   "version": "3.8.8"
  }
 },
 "nbformat": 4,
 "nbformat_minor": 2
}
