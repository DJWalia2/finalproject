{
 "cells": [
  {
   "cell_type": "markdown",
   "metadata": {},
   "source": [
    "\n",
    "# Project 2: swarming behavior and correlated velocities\n",
    "\n",
    "In this project you will explore the properties of the [Vicsek swarming model](https://en.wikipedia.org/wiki/Vicsek_model) and you will generalize it by adding rules to the interactions of the active particles in the system.\n",
    "\n",
    "The model has an internal noise parameter (\"$eta$\" in the implementation below), and it is known that increasing $eta$ from $0$ to $1$ will lead the swarm to undergo a phase transition, i.e. a qualitative change of behavior, which in this case manifests itself as a passage from collective, ordered motion to random motion for the active particles. \n",
    "\n",
    "Referring to the concepts of polarization, correlation function, and correlation length defined in the article [Scale-free correlations in starling flocks](https://www.pnas.org/content/107/26/11865), answer the following questions:\n",
    "\n",
    "\n",
    "(1) Estimate the value of $eta$ for which there is a phase transition in the Vicsek model, by using the polarization $\\Phi$ of the system. Test your method for several values of size $N$ of the system, and several choices of initial random distributions of the active particles.\n",
    "\n",
    "\n",
    "(2) Estimate the correlation function $C(r)$ of fluctuations of velocities within the Vicsek model, for multiple values of $eta$ and for $N \\approx 10^3$. Estimate $\\bar r$, the value of $r$ for which $C(r)$ becomes zero ($\\bar r$ is an estimate of the correlation length of the swarm). \n",
    "\n",
    "\n",
    "(3) Research the literature to find other swarming and flocking models. On the basis of your literature review and your intuition, try to modify the Vicsek model so that you increase the average value of $\\bar r$ for the swarm.  \n",
    "\n",
    "N.B. all your answers should be in reference to the system in an \"asymptotic\" state when the initial random distribution of the positions and velocities of the active particles is no more significant to the dynamics.\n",
    "\n"
   ]
  },
  {
   "cell_type": "markdown",
   "metadata": {},
   "source": [
    "This code template is taken from a blog post of [Francesco Turci](https://francescoturci.net/2020/06/19/minimal-vicsek-model-in-python/), a researcher in disordered systems. This specific Python implementation allows you to simulate far more active particles than it would be possible with a direct, naive implementation of the Vicsek model."
   ]
  },
  {
   "cell_type": "code",
   "execution_count": 1,
   "metadata": {},
   "outputs": [
    {
     "name": "stdout",
     "output_type": "stream",
     "text": [
      " N 3072\n"
     ]
    }
   ],
   "source": [
    "import numpy as np\n",
    "import scipy as sp\n",
    "from scipy import sparse\n",
    "from scipy.spatial import cKDTree\n",
    "import matplotlib.pyplot as plt\n",
    "from matplotlib.animation import FuncAnimation\n",
    "%matplotlib notebook\n",
    "\n",
    "L = 32.0\n",
    "rho = 3.0\n",
    "N = int(rho*L**2)\n",
    "print(\" N\",N)\n",
    " \n",
    "r0 = 1.0\n",
    "deltat = 1.0\n",
    "factor = 0.5\n",
    "v0 = r0/deltat*factor\n",
    "iterations = 1000\n",
    "eta = 0\n",
    "\n",
    "pos = np.random.uniform(0,L,size=(N,2))\n",
    "orient = np.random.uniform(-np.pi, np.pi,size=N)\n",
    "\n",
    "#Sets initial pos and orient values in this cell so they cannot accidentally be altered in later versions\n",
    "pos0 = pos\n",
    "orient0 = orient"
   ]
  },
  {
   "cell_type": "code",
   "execution_count": 2,
   "metadata": {},
   "outputs": [],
   "source": [
    "def Vicsek(pos, orient, eta):\n",
    "    \n",
    "    tree = cKDTree(pos,boxsize=[L,L])\n",
    "    dist = tree.sparse_distance_matrix(tree, max_distance=r0,output_type='coo_matrix')\n",
    " \n",
    "    data = np.exp(orient[dist.col]*1j)\n",
    "    neigh = sparse.coo_matrix((data,(dist.row,dist.col)), shape=dist.get_shape())\n",
    "    S = np.squeeze(np.asarray(neigh.tocsr().sum(axis=1)))\n",
    "        \n",
    "    orient = np.angle(S)+eta*np.random.uniform(-np.pi, np.pi, size=N)\n",
    "        \n",
    "    cos, sin= np.cos(orient), np.sin(orient)\n",
    "    pos[:,0] += cos*v0\n",
    "    pos[:,1] += sin*v0\n",
    "\n",
    "    pos[pos>L] -= L\n",
    "    pos[pos<0] += L\n",
    "    \n",
    "    return pos, orient"
   ]
  },
  {
   "cell_type": "code",
   "execution_count": 3,
   "metadata": {},
   "outputs": [],
   "source": [
    "def Polarization(orient, N):\n",
    "    v = (np.cos(orient), np.sin(orient))\n",
    "    v_sum = np.sum(v, axis=1)\n",
    "    v_mod = v_sum * (1/N)\n",
    "    phi = np.linalg.norm(v_mod)\n",
    "    return phi"
   ]
  },
  {
   "cell_type": "code",
   "execution_count": 15,
   "metadata": {},
   "outputs": [],
   "source": [
    "def Correlation(r):\n",
    "    global pos, orient, N, delta_r\n",
    "    \n",
    "    #Get v_mod () and v_mean ()\n",
    "    v = (np.cos(orient), np.sin(orient))\n",
    "    v_sum = np.sum(v, axis=1)\n",
    "    v_mod = v_sum * (1/N)\n",
    "    v_mean = np.mean(v)\n",
    "    \n",
    "    sumtop = 0\n",
    "    sumbot = 0\n",
    "    \n",
    "    distances = np.zeros(1)\n",
    "\n",
    "    #ui = x-component of v_mod, uj = y-component of v_mod\n",
    "    ui = v_mod[0] - v_mean\n",
    "    uj = v_mod[1] - v_mean\n",
    "    \n",
    "    for i in range(N):\n",
    "        for j in range(N):\n",
    "            #Get distance between two positions\n",
    "            pos_1 = pos[i]\n",
    "            pos_2 = pos[j]\n",
    "            \n",
    "            pos_1x = pos_1[0]\n",
    "            pos_1y = pos_1[1]\n",
    "            pos_2x = pos_2[0]\n",
    "            pos_2y = pos_2[1]\n",
    "            \n",
    "            sub_x = (pos_1x - pos_2x)**2\n",
    "            sub_y = (pos_1y - pos_2y)**2\n",
    "            \n",
    "            r_ij = (sub_x + sub_y)**0.5\n",
    "            \n",
    "            r_test = np.abs(r_ij - r)\n",
    "            \n",
    "            #Determine if distance is significant enough to add the dot project of ui/uj to the sum\n",
    "            if r_test < delta_r:\n",
    "                sumtop += np.dot(ui, uj)\n",
    "                sumbot += 1\n",
    "    \n",
    "    Cr = sumtop / sumbot\n",
    "    \n",
    "    print(\"Count:\",count)\n",
    "    print(\"Cr for r =\",r,\":\",Cr)\n",
    "    \n",
    "    return Cr"
   ]
  },
  {
   "cell_type": "code",
   "execution_count": null,
   "metadata": {},
   "outputs": [],
   "source": [
    "\"\"\"\n",
    "times = 21\n",
    "count = 0\n",
    "r = 0.5\n",
    "delta_r = 0.01\n",
    "eta_values = np.linspace(0, 1, times)\n",
    "\n",
    "polarization_points = np.zeros(times)\n",
    "correlation_points = np.zeros(times)\n",
    "\n",
    "for eta in eta_values:\n",
    "    pos = pos0\n",
    "    orient = orient0\n",
    "    for i in range(iterations):\n",
    "        pos, orient = Vicsek(pos, orient, eta)\n",
    "    polarization_points[count] = Polarization(orient, N)\n",
    "    correlation_points[count] = Correlation(r)\n",
    "    count += 1\n",
    "\"\"\""
   ]
  },
  {
   "cell_type": "code",
   "execution_count": 6,
   "metadata": {},
   "outputs": [
    {
     "name": "stdout",
     "output_type": "stream",
     "text": [
      "r_points for eta = 0.0 : [-0.49850934 -0.49850934 -0.49850934 -0.49850934 -0.49850934]\n"
     ]
    },
    {
     "ename": "KeyboardInterrupt",
     "evalue": "",
     "output_type": "error",
     "traceback": [
      "\u001b[1;31m---------------------------------------------------------------------------\u001b[0m",
      "\u001b[1;31mKeyboardInterrupt\u001b[0m                         Traceback (most recent call last)",
      "\u001b[1;32m<ipython-input-6-da55a235eec5>\u001b[0m in \u001b[0;36m<module>\u001b[1;34m\u001b[0m\n\u001b[0;32m     19\u001b[0m     \u001b[0mpolarization_points\u001b[0m\u001b[1;33m[\u001b[0m\u001b[0mcount\u001b[0m\u001b[1;33m]\u001b[0m \u001b[1;33m=\u001b[0m \u001b[0mPolarization\u001b[0m\u001b[1;33m(\u001b[0m\u001b[0morient\u001b[0m\u001b[1;33m,\u001b[0m \u001b[0mN\u001b[0m\u001b[1;33m)\u001b[0m\u001b[1;33m\u001b[0m\u001b[1;33m\u001b[0m\u001b[0m\n\u001b[0;32m     20\u001b[0m     \u001b[1;32mfor\u001b[0m \u001b[0mr\u001b[0m \u001b[1;32min\u001b[0m \u001b[0mr_values\u001b[0m\u001b[1;33m:\u001b[0m\u001b[1;33m\u001b[0m\u001b[1;33m\u001b[0m\u001b[0m\n\u001b[1;32m---> 21\u001b[1;33m         \u001b[0mr_points\u001b[0m\u001b[1;33m[\u001b[0m\u001b[0mr_count\u001b[0m\u001b[1;33m]\u001b[0m \u001b[1;33m=\u001b[0m \u001b[0mCorrelation\u001b[0m\u001b[1;33m(\u001b[0m\u001b[0mr\u001b[0m\u001b[1;33m)\u001b[0m\u001b[1;33m\u001b[0m\u001b[1;33m\u001b[0m\u001b[0m\n\u001b[0m\u001b[0;32m     22\u001b[0m         \u001b[0mr_count\u001b[0m \u001b[1;33m+=\u001b[0m \u001b[1;36m1\u001b[0m\u001b[1;33m\u001b[0m\u001b[1;33m\u001b[0m\u001b[0m\n\u001b[0;32m     23\u001b[0m     \u001b[0mprint\u001b[0m\u001b[1;33m(\u001b[0m\u001b[1;34m\"r_points for eta =\"\u001b[0m\u001b[1;33m,\u001b[0m\u001b[0meta\u001b[0m\u001b[1;33m,\u001b[0m\u001b[1;34m\":\"\u001b[0m\u001b[1;33m,\u001b[0m\u001b[0mr_points\u001b[0m\u001b[1;33m)\u001b[0m\u001b[1;33m\u001b[0m\u001b[1;33m\u001b[0m\u001b[0m\n",
      "\u001b[1;32m<ipython-input-4-e78fa584874f>\u001b[0m in \u001b[0;36mCorrelation\u001b[1;34m(r)\u001b[0m\n\u001b[0;32m     27\u001b[0m \u001b[1;33m\u001b[0m\u001b[0m\n\u001b[0;32m     28\u001b[0m             \u001b[0msub_x\u001b[0m \u001b[1;33m=\u001b[0m \u001b[1;33m(\u001b[0m\u001b[0mpos_1x\u001b[0m \u001b[1;33m-\u001b[0m \u001b[0mpos_2x\u001b[0m\u001b[1;33m)\u001b[0m\u001b[1;33m**\u001b[0m\u001b[1;36m2\u001b[0m\u001b[1;33m\u001b[0m\u001b[1;33m\u001b[0m\u001b[0m\n\u001b[1;32m---> 29\u001b[1;33m             \u001b[0msub_y\u001b[0m \u001b[1;33m=\u001b[0m \u001b[1;33m(\u001b[0m\u001b[0mpos_1y\u001b[0m \u001b[1;33m-\u001b[0m \u001b[0mpos_2y\u001b[0m\u001b[1;33m)\u001b[0m\u001b[1;33m**\u001b[0m\u001b[1;36m2\u001b[0m\u001b[1;33m\u001b[0m\u001b[1;33m\u001b[0m\u001b[0m\n\u001b[0m\u001b[0;32m     30\u001b[0m \u001b[1;33m\u001b[0m\u001b[0m\n\u001b[0;32m     31\u001b[0m             \u001b[0mr_ij\u001b[0m \u001b[1;33m=\u001b[0m \u001b[1;33m(\u001b[0m\u001b[0msub_x\u001b[0m \u001b[1;33m+\u001b[0m \u001b[0msub_y\u001b[0m\u001b[1;33m)\u001b[0m\u001b[1;33m**\u001b[0m\u001b[1;36m0.5\u001b[0m\u001b[1;33m\u001b[0m\u001b[1;33m\u001b[0m\u001b[0m\n",
      "\u001b[1;31mKeyboardInterrupt\u001b[0m: "
     ]
    }
   ],
   "source": [
    "times = 5 \n",
    "count = 0\n",
    "eta_values = np.linspace(0, 1, times)\n",
    "\n",
    "r = 0\n",
    "delta_r = 0.03\n",
    "r_values = np.linspace(0, 1, times)\n",
    "r_points = np.zeros(times)\n",
    "r_count = 0\n",
    "\n",
    "polarization_points = np.zeros(times)\n",
    "correlation_points = np.zeros(times)\n",
    "\n",
    "for eta in eta_values:\n",
    "    pos = pos0\n",
    "    orient = orient0\n",
    "    for i in range(iterations):\n",
    "        pos, orient = Vicsek(pos, orient, eta)\n",
    "    polarization_points[count] = Polarization(orient, N)\n",
    "    for r in r_values:\n",
    "        r_points[r_count] = Correlation(r)\n",
    "        r_count += 1\n",
    "    print(\"r_points for eta =\",eta,\":\",r_points)\n",
    "    count += 1\n",
    "    r = 0\n",
    "    r_count = 0"
   ]
  },
  {
   "cell_type": "code",
   "execution_count": null,
   "metadata": {},
   "outputs": [],
   "source": [
    "    if eta == 0:\n",
    "        fig1, ax1 = plt.subplots(1, 1, figsize=(8, 8))\n",
    "        plt.xlabel(\"r\")\n",
    "        plt.ylabel(\"Correlation\")\n",
    "        ax1.plot(r_values, r_points, \"ro-\", color = \"black\")\n",
    "    if eta == 0.5:\n",
    "        fig2, ax2 = plt.subplots(1, 1, figsize=(8, 8))\n",
    "        plt.xlabel(\"r\")\n",
    "        plt.ylabel(\"Correlation\")\n",
    "        ax2.plot(r_values, r_points, \"ro-\", color = \"black\")\n",
    "    if eta == 1:\n",
    "        fig3, ax3 = plt.subplots(1, 1, figsize=(8, 8))\n",
    "        plt.xlabel(\"r\")\n",
    "        plt.ylabel(\"Correlation\")\n",
    "        ax3.plot(r_values, r_points, \"ro-\", color = \"black\")"
   ]
  },
  {
   "cell_type": "code",
   "execution_count": null,
   "metadata": {},
   "outputs": [],
   "source": [
    "fig1, ax1 = plt.subplots(1, 1, figsize=(8, 8))\n",
    "ax1.plot(eta_values, polarization_points, \"ro-\", color = \"black\")\n",
    "plt.xlabel(\"Eta\")\n",
    "plt.ylabel(\"Polarization\")"
   ]
  },
  {
   "cell_type": "code",
   "execution_count": null,
   "metadata": {},
   "outputs": [],
   "source": [
    "fig2, ax2 = plt.subplots(1, 1, figsize=(8, 8))\n",
    "plt.xlabel(\"Eta\")\n",
    "plt.ylabel(\"Correlation\")\n",
    "ax2.plot(eta_values, correlation_points, \"ro-\", color = \"black\")"
   ]
  },
  {
   "cell_type": "code",
   "execution_count": 11,
   "metadata": {},
   "outputs": [
    {
     "name": "stdout",
     "output_type": "stream",
     "text": [
      "r_test for r = 0.0 : 19.058499552501207\n"
     ]
    },
    {
     "ename": "KeyboardInterrupt",
     "evalue": "",
     "output_type": "error",
     "traceback": [
      "\u001b[1;31m---------------------------------------------------------------------------\u001b[0m",
      "\u001b[1;31mKeyboardInterrupt\u001b[0m                         Traceback (most recent call last)",
      "\u001b[1;32m<ipython-input-11-c7bc3b0ad378>\u001b[0m in \u001b[0;36m<module>\u001b[1;34m\u001b[0m\n\u001b[0;32m      7\u001b[0m \u001b[1;33m\u001b[0m\u001b[0m\n\u001b[0;32m      8\u001b[0m \u001b[1;32mfor\u001b[0m \u001b[0mr\u001b[0m \u001b[1;32min\u001b[0m \u001b[0mr_values\u001b[0m\u001b[1;33m:\u001b[0m\u001b[1;33m\u001b[0m\u001b[1;33m\u001b[0m\u001b[0m\n\u001b[1;32m----> 9\u001b[1;33m     \u001b[0mr_points\u001b[0m\u001b[1;33m[\u001b[0m\u001b[0mr_count\u001b[0m\u001b[1;33m]\u001b[0m \u001b[1;33m=\u001b[0m \u001b[0mCorrelation\u001b[0m\u001b[1;33m(\u001b[0m\u001b[0mr\u001b[0m\u001b[1;33m)\u001b[0m\u001b[1;33m\u001b[0m\u001b[1;33m\u001b[0m\u001b[0m\n\u001b[0m\u001b[0;32m     10\u001b[0m     \u001b[0mr_count\u001b[0m \u001b[1;33m+=\u001b[0m \u001b[1;36m1\u001b[0m\u001b[1;33m\u001b[0m\u001b[1;33m\u001b[0m\u001b[0m\n\u001b[0;32m     11\u001b[0m \u001b[1;33m\u001b[0m\u001b[0m\n",
      "\u001b[1;32m<ipython-input-10-8e450c294e1b>\u001b[0m in \u001b[0;36mCorrelation\u001b[1;34m(r)\u001b[0m\n\u001b[0;32m     31\u001b[0m             \u001b[0mr_ij\u001b[0m \u001b[1;33m=\u001b[0m \u001b[1;33m(\u001b[0m\u001b[0msub_x\u001b[0m \u001b[1;33m+\u001b[0m \u001b[0msub_y\u001b[0m\u001b[1;33m)\u001b[0m\u001b[1;33m**\u001b[0m\u001b[1;36m0.5\u001b[0m\u001b[1;33m\u001b[0m\u001b[1;33m\u001b[0m\u001b[0m\n\u001b[0;32m     32\u001b[0m \u001b[1;33m\u001b[0m\u001b[0m\n\u001b[1;32m---> 33\u001b[1;33m             \u001b[0mr_test\u001b[0m \u001b[1;33m=\u001b[0m \u001b[0mnp\u001b[0m\u001b[1;33m.\u001b[0m\u001b[0mabs\u001b[0m\u001b[1;33m(\u001b[0m\u001b[0mr_ij\u001b[0m \u001b[1;33m-\u001b[0m \u001b[0mr\u001b[0m\u001b[1;33m)\u001b[0m\u001b[1;33m\u001b[0m\u001b[1;33m\u001b[0m\u001b[0m\n\u001b[0m\u001b[0;32m     34\u001b[0m \u001b[1;33m\u001b[0m\u001b[0m\n\u001b[0;32m     35\u001b[0m             \u001b[1;32mif\u001b[0m \u001b[0mi\u001b[0m \u001b[1;33m==\u001b[0m \u001b[1;36m1000\u001b[0m\u001b[1;33m:\u001b[0m\u001b[1;33m\u001b[0m\u001b[1;33m\u001b[0m\u001b[0m\n",
      "\u001b[1;31mKeyboardInterrupt\u001b[0m: "
     ]
    }
   ],
   "source": [
    "r = 0\n",
    "delta_r = 0.03\n",
    "times = 10\n",
    "r_values = np.linspace(0, 1, times)\n",
    "r_points = np.zeros(times)\n",
    "r_count = 0\n",
    "\n",
    "for r in r_values:\n",
    "    r_points[r_count] = Correlation(r)\n",
    "    r_count += 1\n",
    "\n",
    "print(r_points)"
   ]
  },
  {
   "cell_type": "code",
   "execution_count": 16,
   "metadata": {},
   "outputs": [
    {
     "name": "stdout",
     "output_type": "stream",
     "text": [
      "Count: 1\n",
      "Cr for r = 0 : -0.14670012874320423\n"
     ]
    }
   ],
   "source": [
    "zpz = Correlation(0)"
   ]
  },
  {
   "cell_type": "code",
   "execution_count": null,
   "metadata": {},
   "outputs": [],
   "source": [
    "#Citation: Professor Napoletani\n",
    "\n",
    "jump = np.abs(polarization_points[1:]-polarization_points[:-1])\n",
    "mm = np.mean(jump[-20:])\n",
    "\n",
    "posMax = np.argmax(jump)\n",
    "inde1 = posMax\n",
    "\n",
    "Djump = jump[inde1]\n",
    "while Djump > mm:\n",
    "    Djump = jump[inde1]\n",
    "    inde1 += 1\n",
    "    \n",
    "print(\"Estimated eta value for phase transition:\", eta_values[inde1+1])"
   ]
  },
  {
   "cell_type": "code",
   "execution_count": null,
   "metadata": {},
   "outputs": [],
   "source": [
    "#Citation: Professor Napoletani\n",
    "\n",
    "jump = np.abs(correlation_points[1:]-correlation_points[:-1])\n",
    "mm = np.mean(jump[-20:])\n",
    "\n",
    "posMax = np.argmax(jump)\n",
    "inde1 = posMax\n",
    "\n",
    "Djump = jump[inde1]\n",
    "while Djump > mm:\n",
    "    Djump = jump[inde1]\n",
    "    inde1 += 1\n",
    "\n",
    "print(\"Estimated eta value for correlation function becoming 0:\", eta_values[inde1+1])"
   ]
  },
  {
   "cell_type": "code",
   "execution_count": null,
   "metadata": {},
   "outputs": [],
   "source": [
    "i = 0\n",
    "j = 1\n",
    "\n",
    "pos_1 = pos[i]\n",
    "pos_2 = pos[j]\n",
    "\n",
    "pos_1x = pos_1[0]\n",
    "pos_1y = pos_1[1]\n",
    "pos_2x = pos_2[0]\n",
    "pos_2y = pos_2[1]\n",
    "\n",
    "\n",
    "print(pos[j])\n",
    "\n"
   ]
  },
  {
   "cell_type": "code",
   "execution_count": null,
   "metadata": {},
   "outputs": [],
   "source": []
  }
 ],
 "metadata": {
  "interpreter": {
   "hash": "924571507301e38a6e1ff07334e13d350fdb8f069293f4421da046b831b2999e"
  },
  "kernelspec": {
   "display_name": "Python 3",
   "language": "python",
   "name": "python3"
  },
  "language_info": {
   "codemirror_mode": {
    "name": "ipython",
    "version": 3
   },
   "file_extension": ".py",
   "mimetype": "text/x-python",
   "name": "python",
   "nbconvert_exporter": "python",
   "pygments_lexer": "ipython3",
   "version": "3.8.8"
  }
 },
 "nbformat": 4,
 "nbformat_minor": 2
}
